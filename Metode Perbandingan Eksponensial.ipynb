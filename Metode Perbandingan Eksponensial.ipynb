{
  "cells": [
    {
      "cell_type": "markdown",
      "metadata": {
        "id": "view-in-github",
        "colab_type": "text"
      },
      "source": [
        "<a href=\"https://colab.research.google.com/github/W0LF12AM/Sistem-Penunjang-Keputusan/blob/main/Metode%20Perbandingan%20Eksponensial.ipynb\" target=\"_parent\"><img src=\"https://colab.research.google.com/assets/colab-badge.svg\" alt=\"Open In Colab\"/></a>"
      ]
    },
    {
      "cell_type": "code",
      "execution_count": null,
      "metadata": {
        "colab": {
          "base_uri": "https://localhost:8080/"
        },
        "id": "RDeW79CyOQmA",
        "outputId": "f5028227-9efe-408d-9d38-0b56720070bc"
      },
      "outputs": [
        {
          "name": "stdout",
          "output_type": "stream",
          "text": [
            "1. Bali: 5.071292454783082\n",
            "2. Yogyakarta: 4.636120109931427\n",
            "3. Bandung: 4.441947888657681\n"
          ]
        }
      ],
      "source": [
        "import numpy as np\n",
        "\n",
        "# Daftar destinasi atau tempat\n",
        "destinations = ['Bali', 'Yogyakarta', 'Bandung']\n",
        "\n",
        "# Kriteria dan bobotnya\n",
        "criteria_weights = {'Harga': 0.3, 'Keindahan Alam': 0.5, 'Fasilitas Akomodasi': 0.2}\n",
        "\n",
        "# Penilaian dari pengguna lain untuk setiap kriteria dan destinasi\n",
        "ratings = {\n",
        "    'Bali': {'Harga': 4, 'Keindahan Alam': 5, 'Fasilitas Akomodasi': 4},\n",
        "    'Yogyakarta': {'Harga': 3, 'Keindahan Alam': 4, 'Fasilitas Akomodasi': 3},\n",
        "    'Bandung': {'Harga': 3, 'Keindahan Alam': 3, 'Fasilitas Akomodasi': 4}\n",
        "}\n",
        "\n",
        "# Hitung nilai akhir atau skor untuk setiap destinasi\n",
        "scores = {}\n",
        "for destination in destinations:\n",
        "    score = 0\n",
        "    for criteria, rating in ratings[destination].items():\n",
        "        weight = criteria_weights[criteria]\n",
        "        score += rating ** weight\n",
        "    scores[destination] = score\n",
        "\n",
        "# Urutkan destinasi berdasarkan skor tertinggi\n",
        "sorted_destinations = sorted(scores, key=scores.get, reverse=True)\n",
        "\n",
        "# Tampilkan hasil\n",
        "for i, destination in enumerate(sorted_destinations):\n",
        "    print(f'{i+1}. {destination}: {scores[destination]}')\n"
      ]
    },
    {
      "cell_type": "code",
      "execution_count": null,
      "metadata": {
        "colab": {
          "background_save": true,
          "base_uri": "https://localhost:8080/"
        },
        "id": "YthHIgr7R3r3",
        "outputId": "06b31b2b-5e99-4d9d-acb1-578bda32db97"
      },
      "outputs": [
        {
          "name": "stdout",
          "output_type": "stream",
          "text": [
            "\n",
            "Input kriteria dan bobot untuk destinasi Bali:\n",
            "\n",
            "Input kriteria dan bobot untuk destinasi Yogyakarta:\n",
            "\n",
            "Input kriteria dan bobot untuk destinasi Bandung:\n",
            "\n",
            "Input penilaian untuk destinasi Bali:\n",
            "\n",
            "Input penilaian untuk destinasi Yogyakarta:\n"
          ]
        }
      ],
      "source": [
        "import numpy as np\n",
        "\n",
        "# Daftar destinasi atau tempat\n",
        "destinations = ['Bali', 'Yogyakarta', 'Bandung']\n",
        "\n",
        "# Meminta pengguna untuk menginput kriteria dan bobotnya\n",
        "criteria_weights = {}\n",
        "for destination in destinations:\n",
        "    print(f\"\\nInput kriteria dan bobot untuk destinasi {destination}:\")\n",
        "    for i in range(3):  # Misalnya, kita akan meminta input untuk 3 kriteria\n",
        "        criteria = input(f\"Masukkan nama kriteria ke-{i+1}: \")\n",
        "        weight = float(input(f\"Masukkan bobot untuk kriteria '{criteria}': \"))\n",
        "        criteria_weights[criteria] = weight\n",
        "\n",
        "# Penilaian dari pengguna lain untuk setiap kriteria dan destinasi\n",
        "ratings = {}\n",
        "for destination in destinations:\n",
        "    print(f\"\\nInput penilaian untuk destinasi {destination}:\")\n",
        "    ratings[destination] = {}\n",
        "    for criteria in criteria_weights:\n",
        "        rating = int(input(f\"Masukkan penilaian untuk kriteria '{criteria}' di destinasi '{destination}': \"))\n",
        "        ratings[destination][criteria] = rating\n",
        "\n",
        "# Hitung nilai akhir atau skor untuk setiap destinasi\n",
        "scores = {}\n",
        "for destination in destinations:\n",
        "    score = 0\n",
        "    for criteria, rating in ratings[destination].items():\n",
        "        weight = criteria_weights[criteria]\n",
        "        score += rating ** weight\n",
        "    scores[destination] = score\n",
        "\n",
        "# Urutkan destinasi berdasarkan skor tertinggi\n",
        "sorted_destinations = sorted(scores, key=scores.get, reverse=True)\n",
        "\n",
        "# Tampilkan hasil\n",
        "print(\"\\nHasil evaluasi destinasi:\")\n",
        "for i, destination in enumerate(sorted_destinations):\n",
        "    print(f'{i+1}. {destination}: {scores[destination]}')\n"
      ]
    },
    {
      "cell_type": "code",
      "source": [
        " import numpy as np\n",
        "\n",
        "# Meminta pengguna untuk memasukkan destinasi\n",
        "destinations = []\n",
        "num_destinations = int(input(\"Masukkan jumlah destinasi: \"))\n",
        "for i in range(num_destinations):\n",
        "    destination = input(f\"Masukkan nama destinasi ke-{i+1}: \")\n",
        "    destinations.append(destination)\n",
        "\n",
        "# Meminta pengguna untuk memasukkan kriteria dan bobotnya\n",
        "criteria_weights = {}\n",
        "for destination in destinations:\n",
        "    print(f\"\\nInput kriteria dan bobot untuk destinasi {destination}:\")\n",
        "    for i in range(3):  # Misalnya, kita akan meminta input untuk 3 kriteria\n",
        "        criteria = input(f\"Masukkan nama kriteria ke-{i+1}: \")\n",
        "        weight = float(input(f\"Masukkan bobot untuk kriteria '{criteria}': \"))\n",
        "        criteria_weights[criteria] = weight\n",
        "\n",
        "# Penilaian dari pengguna lain untuk setiap kriteria dan destinasi\n",
        "ratings = {}\n",
        "for destination in destinations:\n",
        "    print(f\"\\nInput penilaian untuk destinasi {destination}:\")\n",
        "    ratings[destination] = {}\n",
        "    for criteria in criteria_weights:\n",
        "        rating = int(input(f\"Masukkan penilaian untuk kriteria '{criteria}' di destinasi '{destination}': \"))\n",
        "        ratings[destination][criteria] = rating\n",
        "\n",
        "# Hitung nilai akhir atau skor untuk setiap destinasi\n",
        "scores = {}\n",
        "for destination in destinations:\n",
        "    score = 0\n",
        "    for criteria, rating in ratings[destination].items():\n",
        "        weight = criteria_weights[criteria]\n",
        "        score += rating ** weight\n",
        "    scores[destination] = score\n",
        "\n",
        "# Urutkan destinasi berdasarkan skor tertinggi\n",
        "sorted_destinations = sorted(scores, key=scores.get, reverse=True)\n",
        "\n",
        "# Tampilkan hasil\n",
        "print(\"\\nHasil evaluasi destinasi:\")\n",
        "for i, destination in enumerate(sorted_destinations):\n",
        "    print(f'{i+1}. {destination}: {scores[destination]}')\n"
      ],
      "metadata": {
        "colab": {
          "base_uri": "https://localhost:8080/"
        },
        "id": "iFiDS6wFFqzw",
        "outputId": "1ea694d6-a186-439a-fc88-798f48fda2c4"
      },
      "execution_count": null,
      "outputs": [
        {
          "output_type": "stream",
          "name": "stdout",
          "text": [
            "Masukkan jumlah destinasi: 2\n",
            "Masukkan nama destinasi ke-1: bogor\n",
            "Masukkan nama destinasi ke-2: bandung\n",
            "\n",
            "Input kriteria dan bobot untuk destinasi bogor:\n",
            "Masukkan nama kriteria ke-1: jarak\n",
            "Masukkan bobot untuk kriteria 'jarak': 0.3\n",
            "Masukkan nama kriteria ke-2: harga\n",
            "Masukkan bobot untuk kriteria 'harga': 0.4\n",
            "Masukkan nama kriteria ke-3: view\n",
            "Masukkan bobot untuk kriteria 'view': 0.3\n",
            "\n",
            "Input kriteria dan bobot untuk destinasi bandung:\n",
            "Masukkan nama kriteria ke-1: jarak\n",
            "Masukkan bobot untuk kriteria 'jarak': 0.3\n",
            "Masukkan nama kriteria ke-2: harga\n",
            "Masukkan bobot untuk kriteria 'harga': 0.4\n",
            "Masukkan nama kriteria ke-3: view\n",
            "Masukkan bobot untuk kriteria 'view': 0.3\n",
            "\n",
            "Input penilaian untuk destinasi bogor:\n",
            "Masukkan penilaian untuk kriteria 'jarak' di destinasi 'bogor': 3\n",
            "Masukkan penilaian untuk kriteria 'harga' di destinasi 'bogor': 4\n",
            "Masukkan penilaian untuk kriteria 'view' di destinasi 'bogor': 5\n",
            "\n",
            "Input penilaian untuk destinasi bandung:\n",
            "Masukkan penilaian untuk kriteria 'jarak' di destinasi 'bandung': 3\n",
            "Masukkan penilaian untuk kriteria 'harga' di destinasi 'bandung': 4\n",
            "Masukkan penilaian untuk kriteria 'view' di destinasi 'bandung': 5\n",
            "\n",
            "Hasil evaluasi destinasi:\n",
            "1. bogor: 4.75214689360092\n",
            "2. bandung: 4.75214689360092\n"
          ]
        }
      ]
    },
    {
      "cell_type": "code",
      "source": [
        "import numpy as np\n",
        "\n",
        "destinasi = ['Bali', 'Yogyakarta', 'Bandung']\n",
        "\n",
        "bobot_kriteria = {'Harga': 0.3, 'Keindahan Alam': 0.5, 'Fasilitas Akomodasi': 0.2}\n",
        "\n",
        "penilaian = {\n",
        "    'Bali': {'Harga': 4, 'Keindahan Alam': 5, 'Fasilitas Akomodasi': 4},\n",
        "    'Yogyakarta': {'Harga': 3, 'Keindahan Alam': 4, 'Fasilitas Akomodasi': 3},\n",
        "    'Bandung': {'Harga': 3, 'Keindahan Alam': 3, 'Fasilitas Akomodasi': 4}\n",
        "}\n",
        "\n",
        "skor = {}\n",
        "for tempat in destinasi:\n",
        "    nilai = 0\n",
        "    for kriteria, rating in penilaian[tempat].items():\n",
        "        bobot = bobot_kriteria[kriteria]\n",
        "        nilai += rating ** bobot\n",
        "    skor[tempat] = nilai\n",
        "\n",
        "destinasi_urut = sorted(skor, key=skor.get, reverse=True)\n",
        "\n",
        "for i, tempat in enumerate(destinasi_urut):\n",
        "    print(f'{i+1}. {tempat}: {skor[tempat]}')\n"
      ],
      "metadata": {
        "colab": {
          "base_uri": "https://localhost:8080/"
        },
        "id": "7xFBAzExVv0Z",
        "outputId": "610b9dc8-538b-4c00-c79f-f89341ca1dca"
      },
      "execution_count": null,
      "outputs": [
        {
          "output_type": "stream",
          "name": "stdout",
          "text": [
            "1. Bali: 5.071292454783082\n",
            "2. Yogyakarta: 4.636120109931427\n",
            "3. Bandung: 4.441947888657681\n"
          ]
        }
      ]
    },
    {
      "cell_type": "code",
      "source": [
        "import numpy as np\n",
        "\n",
        "destinations = ['Bali', 'Yogyakarta', 'Bandung']\n",
        "\n",
        "criteria_weights = {'Harga': 0.3, 'Keindahan Alam': 0.5, 'Fasilitas Akomodasi': 0.2}\n",
        "\n",
        "ratings = {\n",
        "    'Bali': {'Harga': 4, 'Keindahan Alam': 5, 'Fasilitas Akomodasi': 4},\n",
        "    'Yogyakarta': {'Harga': 3, 'Keindahan Alam': 4, 'Fasilitas Akomodasi': 3},\n",
        "    'Bandung': {'Harga': 3, 'Keindahan Alam': 3, 'Fasilitas Akomodasi': 4}\n",
        "}\n",
        "\n",
        "scores = {}\n",
        "for destination in destinations:\n",
        "    score = 0\n",
        "    for criteria, rating in ratings[destination].items():\n",
        "        weight = criteria_weights[criteria]\n",
        "        score += rating ** weight\n",
        "    scores[destination] = score\n",
        "\n",
        "sorted_destinations = sorted(scores, key=scores.get, reverse=True)\n",
        "\n",
        "for i, destination in enumerate(sorted_destinations):\n",
        "    print(f'{i+1}. {destination}: {scores[destination]}')\n"
      ],
      "metadata": {
        "colab": {
          "base_uri": "https://localhost:8080/"
        },
        "id": "GqjfzZBaX7Mx",
        "outputId": "b2930f35-209e-49d3-fb28-2fb9dadbc870"
      },
      "execution_count": null,
      "outputs": [
        {
          "output_type": "stream",
          "name": "stdout",
          "text": [
            "1. Bali: 5.071292454783082\n",
            "2. Yogyakarta: 4.636120109931427\n",
            "3. Bandung: 4.441947888657681\n"
          ]
        }
      ]
    }
  ],
  "metadata": {
    "colab": {
      "provenance": [],
      "authorship_tag": "ABX9TyPkVRYAf9q1kI/j8g853eO5",
      "include_colab_link": true
    },
    "kernelspec": {
      "display_name": "Python 3",
      "name": "python3"
    },
    "language_info": {
      "name": "python"
    }
  },
  "nbformat": 4,
  "nbformat_minor": 0
}