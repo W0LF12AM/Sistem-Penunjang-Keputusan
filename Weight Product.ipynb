{
  "nbformat": 4,
  "nbformat_minor": 0,
  "metadata": {
    "colab": {
      "provenance": [],
      "authorship_tag": "ABX9TyP+n0T5MZAwYabGyxlnCFE5",
      "include_colab_link": true
    },
    "kernelspec": {
      "name": "python3",
      "display_name": "Python 3"
    },
    "language_info": {
      "name": "python"
    }
  },
  "cells": [
    {
      "cell_type": "markdown",
      "metadata": {
        "id": "view-in-github",
        "colab_type": "text"
      },
      "source": [
        "<a href=\"https://colab.research.google.com/github/W0LF12AM/Sistem-Penunjang-Keputusan/blob/main/Weight%20Product.ipynb\" target=\"_parent\"><img src=\"https://colab.research.google.com/assets/colab-badge.svg\" alt=\"Open In Colab\"/></a>"
      ]
    },
    {
      "cell_type": "markdown",
      "source": [
        "# **ALTERNATIF**"
      ],
      "metadata": {
        "id": "SS1fl-MPA5Jc"
      }
    },
    {
      "cell_type": "code",
      "execution_count": null,
      "metadata": {
        "id": "ZCm6pvN-NMBO",
        "colab": {
          "base_uri": "https://localhost:8080/"
        },
        "outputId": "fe058697-1164-427a-dddf-f7153071dbe9"
      },
      "outputs": [
        {
          "name": "stdout",
          "output_type": "stream",
          "text": [
            "Masukan jumlah alternatif : 3\n"
          ]
        }
      ],
      "source": [
        "alternatif = []\n",
        "alt = int(input('Masukan jumlah alternatif : '))"
      ]
    },
    {
      "cell_type": "code",
      "source": [
        "for i in range(0, alt) :\n",
        "  ele = input()\n",
        "  alternatif.append(ele)\n",
        "print(alternatif)"
      ],
      "metadata": {
        "colab": {
          "base_uri": "https://localhost:8080/"
        },
        "id": "yn5o5-Z_BIgt",
        "outputId": "bbcafebd-c5e5-493a-aaa8-762262fc5434"
      },
      "execution_count": null,
      "outputs": [
        {
          "output_type": "stream",
          "name": "stdout",
          "text": [
            "bayu\n",
            "andhika\n",
            "abim\n",
            "['bayu', 'andhika', 'abim']\n"
          ]
        }
      ]
    },
    {
      "cell_type": "markdown",
      "source": [
        "# **KRITERIA**"
      ],
      "metadata": {
        "id": "bTHjjeuGBpP_"
      }
    },
    {
      "cell_type": "code",
      "source": [
        "kriteria = []\n",
        "krt = int(input('Masukan banyak kriteria dari setiap alternatif : '))"
      ],
      "metadata": {
        "colab": {
          "base_uri": "https://localhost:8080/"
        },
        "id": "-8YJzqziBtL6",
        "outputId": "5103899b-421b-460f-ecf3-b0662c9275cd"
      },
      "execution_count": null,
      "outputs": [
        {
          "name": "stdout",
          "output_type": "stream",
          "text": [
            "Masukan banyak kriteria dari setiap alternatif : 3\n"
          ]
        }
      ]
    },
    {
      "cell_type": "code",
      "source": [
        "for i in range(0, krt) :\n",
        "  eli = input()\n",
        "  kriteria.append(eli)\n",
        "print(kriteria)"
      ],
      "metadata": {
        "colab": {
          "base_uri": "https://localhost:8080/"
        },
        "id": "Wo8CGb9DB5cx",
        "outputId": "4f81c35a-b65f-4d67-cf76-02928e6e7abf"
      },
      "execution_count": null,
      "outputs": [
        {
          "output_type": "stream",
          "name": "stdout",
          "text": [
            "IPK\n",
            "UMUR\n",
            "JARAK\n",
            "['IPK', 'UMUR', 'JARAK']\n"
          ]
        }
      ]
    },
    {
      "cell_type": "markdown",
      "source": [
        "# **KETERANGAN KRITERIA & BOBOT**"
      ],
      "metadata": {
        "id": "6GaLbvVSCnZB"
      }
    },
    {
      "cell_type": "code",
      "source": [
        "keterangan = []\n",
        "for i in range(0, krt) :\n",
        "  eli = input()\n",
        "  keterangan.append(eli)\n",
        "print(keterangan)"
      ],
      "metadata": {
        "colab": {
          "base_uri": "https://localhost:8080/"
        },
        "id": "pMzlAPs9CxRM",
        "outputId": "41b3eb5c-b5f6-41ac-83dc-fc6fd77d287e"
      },
      "execution_count": null,
      "outputs": [
        {
          "output_type": "stream",
          "name": "stdout",
          "text": [
            "profit\n",
            "cost\n",
            "cost\n",
            "['profit', 'cost', 'cost']\n"
          ]
        }
      ]
    },
    {
      "cell_type": "code",
      "source": [
        "bobot = []\n",
        "for i in range(0, krt) :\n",
        "  eli = float(input())\n",
        "  bobot.append(eli)\n",
        "print(bobot)\n",
        "print('Total Bobot = ' + str(sum(bobot)))"
      ],
      "metadata": {
        "colab": {
          "base_uri": "https://localhost:8080/"
        },
        "id": "9BZlTnxvDSyI",
        "outputId": "aabe3a0d-a9f2-4bd0-8479-86f05233a841"
      },
      "execution_count": null,
      "outputs": [
        {
          "output_type": "stream",
          "name": "stdout",
          "text": [
            "0.3\n",
            "0.4\n",
            "0.2\n",
            "[0.3, 0.4, 0.2]\n",
            "Total Bobot = 0.8999999999999999\n"
          ]
        }
      ]
    },
    {
      "cell_type": "code",
      "source": [
        "if (sum(bobot) != 1 ) :\n",
        "  for i in range(0, krt) :\n",
        "    bobot[i] = bobot[i] / sum(bobot)\n",
        "  print(bobot)\n",
        "  print(round(sum(bobot)))\n",
        "else :\n",
        "  print('Data tidak perlu di normalisasi')"
      ],
      "metadata": {
        "colab": {
          "base_uri": "https://localhost:8080/"
        },
        "id": "KyzPQ294Ehri",
        "outputId": "a05016f0-3ce1-4e85-c352-60e38a8fdbe9"
      },
      "execution_count": null,
      "outputs": [
        {
          "output_type": "stream",
          "name": "stdout",
          "text": [
            "[0.33333333333333337, 0.4285714285714286, 0.2079207920792079]\n",
            "1\n"
          ]
        }
      ]
    },
    {
      "cell_type": "code",
      "source": [
        "nilai_alt = []\n",
        "nilai_krt = []\n",
        "\n",
        "for i in range(0, alt) :\n",
        "  for j in range(0, krt) :\n",
        "    eli = int(input())\n",
        "    nilai_krt.append(eli)\n",
        "    if len(nilai_krt) == krt :\n",
        "      nilai_alt.append(nilai_krt)\n",
        "      nilai_krt = []\n",
        "\n",
        "print(nilai_alt)\n"
      ],
      "metadata": {
        "colab": {
          "base_uri": "https://localhost:8080/"
        },
        "id": "D8efazrPKVXI",
        "outputId": "2fdeef58-c02b-44cb-bdd0-dac9fe870089"
      },
      "execution_count": null,
      "outputs": [
        {
          "output_type": "stream",
          "name": "stdout",
          "text": [
            "3\n",
            "5\n",
            "3\n",
            "5\n",
            "3\n",
            "1\n",
            "1\n",
            "5\n",
            "3\n",
            "[[3, 5, 3], [5, 3, 1], [1, 5, 3]]\n"
          ]
        }
      ]
    },
    {
      "cell_type": "markdown",
      "source": [
        "# **PERHITUNGAN NILAI ALTERNATIF**"
      ],
      "metadata": {
        "id": "s1sG9GXvHa-I"
      }
    },
    {
      "cell_type": "code",
      "source": [
        "for i in range(0, krt) :\n",
        "  if (keterangan[i] == 'cost') :\n",
        "    bobot[i] = bobot[i]*-1\n",
        "print(kriteria)\n",
        "print(keterangan)\n",
        "print(bobot)"
      ],
      "metadata": {
        "colab": {
          "base_uri": "https://localhost:8080/"
        },
        "id": "Sb7ZXNr_HfCZ",
        "outputId": "2a884fb1-6fd9-4302-c19c-0e16528f8add"
      },
      "execution_count": null,
      "outputs": [
        {
          "output_type": "stream",
          "name": "stdout",
          "text": [
            "['IPK', 'UMUR', 'JARAK']\n",
            "['profit', 'cost', 'cost']\n",
            "[0.33333333333333337, -0.4285714285714286, -0.2079207920792079]\n"
          ]
        }
      ]
    },
    {
      "cell_type": "code",
      "source": [
        "for i in range(0, krt) :\n",
        "  for j in range(0, alt) :\n",
        "    print(nilai_alt[i][j])\n",
        "    print(bobot[j])"
      ],
      "metadata": {
        "colab": {
          "base_uri": "https://localhost:8080/"
        },
        "id": "IAB-89eRROqe",
        "outputId": "83073ada-cf75-4720-d243-8f1004c2e636"
      },
      "execution_count": null,
      "outputs": [
        {
          "output_type": "stream",
          "name": "stdout",
          "text": [
            "3\n",
            "0.33333333333333337\n",
            "5\n",
            "-0.4285714285714286\n",
            "3\n",
            "-0.2079207920792079\n",
            "5\n",
            "0.33333333333333337\n",
            "3\n",
            "-0.4285714285714286\n",
            "1\n",
            "-0.2079207920792079\n",
            "1\n",
            "0.33333333333333337\n",
            "5\n",
            "-0.4285714285714286\n",
            "3\n",
            "-0.2079207920792079\n"
          ]
        }
      ]
    },
    {
      "cell_type": "code",
      "source": [
        "nilai_alt_akhir = []\n",
        "nilai_krt_akhir = []\n",
        "\n",
        "for i in range(0, krt) :\n",
        "  for j in range(0, alt) :\n",
        "    ali = pow(nilai_alt[i][j], bobot[j])\n",
        "    nilai_krt_akhir.append(ali)\n",
        "    if len(nilai_krt_akhir) == krt:\n",
        "      nilai_alt_akhir.append(nilai_krt_akhir)\n",
        "      nilai_krt_akhir = []\n",
        "print(nilai_alt_akhir)"
      ],
      "metadata": {
        "colab": {
          "base_uri": "https://localhost:8080/"
        },
        "id": "O2_Z4VySNEm-",
        "outputId": "7bc16813-3c37-470c-a987-391fecbf1d54"
      },
      "execution_count": null,
      "outputs": [
        {
          "output_type": "stream",
          "name": "stdout",
          "text": [
            "[[1.4422495703074085, 0.5016969106227038, 0.7957865063238744], [1.709975946676697, 0.6244813348581597, 1.0], [1.0, 0.5016969106227038, 0.7957865063238744]]\n"
          ]
        }
      ]
    },
    {
      "cell_type": "code",
      "source": [
        "from functools import reduce\n",
        "from operator import mul"
      ],
      "metadata": {
        "id": "oCO78QdyUiay"
      },
      "execution_count": null,
      "outputs": []
    },
    {
      "cell_type": "code",
      "source": [
        "hasil = [reduce(mul, nilai_krt_akhir) for nilai_krt_akhir in nilai_alt_akhir]\n",
        "print(hasil)"
      ],
      "metadata": {
        "colab": {
          "base_uri": "https://localhost:8080/"
        },
        "id": "yTEE7DRvVh3J",
        "outputId": "ef025d34-5887-46da-8326-cbf33bf68969"
      },
      "execution_count": null,
      "outputs": [
        {
          "output_type": "stream",
          "name": "stdout",
          "text": [
            "[0.575808956321988, 1.067848061756009, 0.39924363173792254]\n"
          ]
        }
      ]
    },
    {
      "cell_type": "code",
      "source": [
        "total_nilai_alt_akhir = sum(hasil)\n",
        "print(total_nilai_alt_akhir)"
      ],
      "metadata": {
        "colab": {
          "base_uri": "https://localhost:8080/"
        },
        "id": "4FAPIcxYW4Sl",
        "outputId": "63df01e6-2c1e-4297-dbe0-dba3835b6546"
      },
      "execution_count": null,
      "outputs": [
        {
          "output_type": "stream",
          "name": "stdout",
          "text": [
            "2.0429006498159197\n"
          ]
        }
      ]
    },
    {
      "cell_type": "code",
      "source": [
        "for i in range(0, alt) :\n",
        "  print(hasil[i])"
      ],
      "metadata": {
        "colab": {
          "base_uri": "https://localhost:8080/"
        },
        "id": "bawsMBU-YWk0",
        "outputId": "da71e40c-4ec0-4d23-f7e5-dcac95924645"
      },
      "execution_count": null,
      "outputs": [
        {
          "output_type": "stream",
          "name": "stdout",
          "text": [
            "0.575808956321988\n",
            "1.067848061756009\n",
            "0.39924363173792254\n"
          ]
        }
      ]
    },
    {
      "cell_type": "code",
      "source": [
        "rank = []\n",
        "for i in range(0, alt) :\n",
        "  ranking = hasil[i] / total_nilai_alt_akhir\n",
        "  rank.append(ranking)\n",
        "print(rank)"
      ],
      "metadata": {
        "colab": {
          "base_uri": "https://localhost:8080/"
        },
        "id": "p1i_ByNGXqXf",
        "outputId": "41788d51-3e00-4df8-a5db-7254a8cf4daf"
      },
      "execution_count": null,
      "outputs": [
        {
          "output_type": "stream",
          "name": "stdout",
          "text": [
            "[0.28185852130101025, 0.5227116951831359, 0.19542978351585394]\n"
          ]
        }
      ]
    },
    {
      "cell_type": "markdown",
      "source": [
        "# **SORTING**"
      ],
      "metadata": {
        "id": "8PmaCj0rdA91"
      }
    },
    {
      "cell_type": "code",
      "source": [
        "sorted_rank = sorted(rank, reverse = True)\n",
        "\n",
        "print(sorted_rank)"
      ],
      "metadata": {
        "colab": {
          "base_uri": "https://localhost:8080/"
        },
        "id": "ybhOUzM3bbrt",
        "outputId": "b6912108-210f-4797-a618-9bb5223140fc"
      },
      "execution_count": null,
      "outputs": [
        {
          "output_type": "stream",
          "name": "stdout",
          "text": [
            "[0.5227116951831359, 0.28185852130101025, 0.19542978351585394]\n"
          ]
        }
      ]
    }
  ]
}